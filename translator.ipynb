{
 "cells": [
  {
   "cell_type": "code",
   "execution_count": 5,
   "id": "eabdc779",
   "metadata": {},
   "outputs": [
    {
     "name": "stdout",
     "output_type": "stream",
     "text": [
      "Collecting translate\n",
      "  Downloading translate-3.6.1-py2.py3-none-any.whl (12 kB)\n",
      "Requirement already satisfied: requests in c:\\users\\hela1\\anaconda3\\lib\\site-packages (from translate) (2.29.0)\n",
      "Requirement already satisfied: click in c:\\users\\hela1\\anaconda3\\lib\\site-packages (from translate) (8.0.4)\n",
      "Collecting libretranslatepy==2.1.1\n",
      "  Downloading libretranslatepy-2.1.1-py3-none-any.whl (3.2 kB)\n",
      "Requirement already satisfied: lxml in c:\\users\\hela1\\anaconda3\\lib\\site-packages (from translate) (4.9.2)\n",
      "Requirement already satisfied: colorama in c:\\users\\hela1\\appdata\\roaming\\python\\python39\\site-packages (from click->translate) (0.4.6)\n",
      "Requirement already satisfied: idna<4,>=2.5 in c:\\users\\hela1\\anaconda3\\lib\\site-packages (from requests->translate) (2.10)\n",
      "Requirement already satisfied: certifi>=2017.4.17 in c:\\users\\hela1\\anaconda3\\lib\\site-packages (from requests->translate) (2023.5.7)\n",
      "Requirement already satisfied: charset-normalizer<4,>=2 in c:\\users\\hela1\\anaconda3\\lib\\site-packages (from requests->translate) (2.0.4)\n",
      "Requirement already satisfied: urllib3<1.27,>=1.21.1 in c:\\users\\hela1\\anaconda3\\lib\\site-packages (from requests->translate) (1.26.16)\n",
      "Installing collected packages: libretranslatepy, translate\n",
      "Successfully installed libretranslatepy-2.1.1 translate-3.6.1\n",
      "Note: you may need to restart the kernel to use updated packages.\n"
     ]
    }
   ],
   "source": [
    "pip install translate"
   ]
  },
  {
   "cell_type": "code",
   "execution_count": 19,
   "id": "0670769b",
   "metadata": {},
   "outputs": [],
   "source": [
    "import translate\n",
    "\n",
    "def translate_text(text, src_lang, dest_lang):\n",
    "  try:\n",
    "    translator = translate.Translator(to_lang=dest_lang)\n",
    "    result = translator.translate(text)\n",
    "    return str(result)  # Convert to string for consistency\n",
    "  except Exception as e:\n",
    "    print(f\"Translation failed: {e}\")\n",
    "    return \"Translation error\"\n"
   ]
  },
  {
   "cell_type": "code",
   "execution_count": 21,
   "id": "e3968f13",
   "metadata": {},
   "outputs": [
    {
     "name": "stdout",
     "output_type": "stream",
     "text": [
      "Enter the text to translate: happy birthday to you\n",
      "Enter the source language code (e.g., 'en' for English): en\n",
      "Enter the destination language code (e.g., 'fr' for French): es\n",
      "Feliz cumpleaños\n"
     ]
    }
   ],
   "source": [
    "text = input(\"Enter the text to translate: \")\n",
    "src_lang = input(\"Enter the source language code (e.g., 'en' for English): \")\n",
    "dest_lang = input(\"Enter the destination language code (e.g., 'fr' for French): \")\n",
    "\n",
    "translation = translate_text(text, src_lang, dest_lang)\n",
    "print(translation)"
   ]
  },
  {
   "cell_type": "code",
   "execution_count": null,
   "id": "4aced6eb",
   "metadata": {},
   "outputs": [],
   "source": []
  }
 ],
 "metadata": {
  "kernelspec": {
   "display_name": "Python 3 (ipykernel)",
   "language": "python",
   "name": "python3"
  },
  "language_info": {
   "codemirror_mode": {
    "name": "ipython",
    "version": 3
   },
   "file_extension": ".py",
   "mimetype": "text/x-python",
   "name": "python",
   "nbconvert_exporter": "python",
   "pygments_lexer": "ipython3",
   "version": "3.9.12"
  }
 },
 "nbformat": 4,
 "nbformat_minor": 5
}
